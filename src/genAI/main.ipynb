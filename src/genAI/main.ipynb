{
 "cells": [
  {
   "cell_type": "code",
   "execution_count": 6,
   "metadata": {},
   "outputs": [],
   "source": [
    "#!pip install langchain_google_genai\n",
    "#!pip install python-dotenv\n",
    "# !pip install langchain_community\n",
    "# !pip install langchain\n",
    "#!pip install chromadb"
   ]
  },
  {
   "cell_type": "code",
   "execution_count": 7,
   "metadata": {},
   "outputs": [
    {
     "data": {
      "text/plain": [
       "True"
      ]
     },
     "execution_count": 7,
     "metadata": {},
     "output_type": "execute_result"
    }
   ],
   "source": [
    "# langchain gemini\n",
    "from langchain_google_genai import ChatGoogleGenerativeAI\n",
    "from langchain_core.messages import HumanMessage, SystemMessage\n",
    "from langchain_google_genai import GoogleGenerativeAIEmbeddings\n",
    "from dotenv import load_dotenv\n",
    "from langchain_community.vectorstores import Chroma\n",
    "from langchain.text_splitter import CharacterTextSplitter\n",
    "from langchain_community.document_loaders import TextLoader\n",
    "\n",
    "import time\n",
    "\n",
    "load_dotenv()\n",
    "\n"
   ]
  },
  {
   "cell_type": "code",
   "execution_count": 8,
   "metadata": {},
   "outputs": [],
   "source": [
    "#llm = ChatGoogleGenerativeAI(model=\"gemini-pro\")\n",
    "# embeddings = GoogleGenerativeAIEmbeddings(model=\"models/embedding-001\")\n",
    "# vectors = embeddings.embed_documents(\n",
    "#     [\n",
    "#         \"Me chame de Israel\",\n",
    "#         \"Eu trabalho na SambaVideos\",\n",
    "#         \"O Frevo é uma filial da SambaVídeos\",\n",
    "#     ]\n",
    "# )\n",
    "# len(vectors), len(vectors[0])"
   ]
  },
  {
   "cell_type": "code",
   "execution_count": 9,
   "metadata": {},
   "outputs": [],
   "source": [
    "# model = ChatGoogleGenerativeAI(model=\"gemini-pro\")\n",
    "\n",
    "# model = ChatGoogleGenerativeAI(model=\"gemini-pro\", convert_system_message_to_human=True)\n",
    "# model(\n",
    "#     [\n",
    "#         SystemMessage(content=\"Apenas responda com sim ou não, não responda outra coisa que não seja isso\"),\n",
    "#         HumanMessage(content=\"Is apple a fruit?\"),\n",
    "# ]\n",
    "# )\n",
    "\n",
    "# embeddings = GoogleGenerativeAIEmbeddings(model=\"models/embedding-001\")\n",
    "# vectors = embeddings.embed_documents(\n",
    "#     [\n",
    "#         'My name is Israel',\n",
    "#         'You are a ChatBot, named \"Ivete\"',\n",
    "#         'You work for Frevo'\n",
    "#     ]\n",
    "# )"
   ]
  },
  {
   "cell_type": "code",
   "execution_count": 10,
   "metadata": {},
   "outputs": [],
   "source": [
    "raw_documents = TextLoader('data.txt').load()\n",
    "text_splitter = CharacterTextSplitter(chunk_size=1500, chunk_overlap=0)\n",
    "document = text_splitter.split_documents(raw_documents)"
   ]
  },
  {
   "cell_type": "code",
   "execution_count": 11,
   "metadata": {},
   "outputs": [],
   "source": [
    "db = Chroma.from_documents(document, GoogleGenerativeAIEmbeddings(model=\"models/embedding-001\", task_type=\"retrieval_document\", title=\"Documento do Inteli\"))"
   ]
  },
  {
   "cell_type": "code",
   "execution_count": 12,
   "metadata": {},
   "outputs": [],
   "source": [
    "# clear database\n",
    "# db.delete_collection()"
   ]
  },
  {
   "cell_type": "code",
   "execution_count": 13,
   "metadata": {},
   "outputs": [],
   "source": [
    "query_embeddings = GoogleGenerativeAIEmbeddings(\n",
    "    model=\"models/embedding-001\", task_type=\"retrieval_query\"\n",
    ")\n",
    "# query_vecs = [query_embeddings.embed_query(q) for q in [query, query_2, answer_1]]"
   ]
  },
  {
   "cell_type": "code",
   "execution_count": 14,
   "metadata": {},
   "outputs": [],
   "source": [
    "# while True:\n",
    "#     texto = input(\"Escreva sua mensagem: \")\n",
    "#     if texto == \"sair\":\n",
    "#         break\n",
    "#     print(\"Você:\", texto)\n",
    "#     response = query_embeddings.embed_query(texto)\n",
    "#     time.sleep(3)\n",
    "#     print(\"Gemini:\", response, \"\\n\")\n",
    "# print(\"Encerrando Chat\")"
   ]
  },
  {
   "cell_type": "code",
   "execution_count": 25,
   "metadata": {},
   "outputs": [
    {
     "name": "stderr",
     "output_type": "stream",
     "text": [
      "Number of requested results 4 is greater than number of elements in index 1, updating n_results = 1\n"
     ]
    },
    {
     "name": "stdout",
     "output_type": "stream",
     "text": [
      "Meu nome é Israel Eu tenho 19 anos moro em São Paulo e estudou no intelli eu faço o curso de engenharia de software gostaria de aprender mais sobre o desenvolvimento web nas linguagens HTML JavaScript CSS react Native e flutter\n"
     ]
    }
   ],
   "source": [
    "query = \"Qual o nome do aluno e qual sua idade?\"\n",
    "docs = db.similarity_search_by_vector(query_embeddings.embed_query(query))\n",
    "# print(query_embeddings.embed_query(query))\n",
    "print(docs[0].page_content)\n",
    "\n"
   ]
  },
  {
   "cell_type": "code",
   "execution_count": 16,
   "metadata": {},
   "outputs": [],
   "source": [
    "# query = \"Qual é a duração dos cursos?\"\n",
    "# docs = db.similarity_search_by_vector(query_embeddings.embed_query(query))\n",
    "# print(docs[0].page_content)"
   ]
  },
  {
   "cell_type": "code",
   "execution_count": 26,
   "metadata": {},
   "outputs": [
    {
     "name": "stdout",
     "output_type": "stream",
     "text": [
      "Nome: Israel\n",
      "Idade: 19 anos\n"
     ]
    }
   ],
   "source": [
    "model = ChatGoogleGenerativeAI(model=\"gemini-pro\")\n",
    "print(model.invoke(f\"Considerando o texto: {docs[0].page_content}. Responda a pergunta {query}\").content)"
   ]
  }
 ],
 "metadata": {
  "kernelspec": {
   "display_name": "base",
   "language": "python",
   "name": "python3"
  },
  "language_info": {
   "codemirror_mode": {
    "name": "ipython",
    "version": 3
   },
   "file_extension": ".py",
   "mimetype": "text/x-python",
   "name": "python",
   "nbconvert_exporter": "python",
   "pygments_lexer": "ipython3",
   "version": "3.11.5"
  }
 },
 "nbformat": 4,
 "nbformat_minor": 2
}
