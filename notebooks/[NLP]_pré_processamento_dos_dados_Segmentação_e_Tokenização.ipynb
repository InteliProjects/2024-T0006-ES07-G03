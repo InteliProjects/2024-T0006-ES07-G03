{
  "cells": [
    {
      "cell_type": "markdown",
      "id": "BKANYl1ggiGp",
      "metadata": {
        "id": "BKANYl1ggiGp"
      },
      "source": [
        "# Configuração do Ambiente"
      ]
    },
    {
      "cell_type": "markdown",
      "id": "ZGRXuT9Ng3Bb",
      "metadata": {
        "id": "ZGRXuT9Ng3Bb"
      },
      "source": [
        "### Importação de bibliotecas"
      ]
    },
    {
      "cell_type": "code",
      "execution_count": 2,
      "id": "yqsUx2HcgImU",
      "metadata": {
        "id": "yqsUx2HcgImU"
      },
      "outputs": [
        {
          "ename": "ModuleNotFoundError",
          "evalue": "No module named 'nltk'",
          "output_type": "error",
          "traceback": [
            "\u001b[1;31m---------------------------------------------------------------------------\u001b[0m",
            "\u001b[1;31mModuleNotFoundError\u001b[0m                       Traceback (most recent call last)",
            "Cell \u001b[1;32mIn[2], line 1\u001b[0m\n\u001b[1;32m----> 1\u001b[0m \u001b[38;5;28;01mimport\u001b[39;00m \u001b[38;5;21;01mnltk\u001b[39;00m\n\u001b[0;32m      2\u001b[0m \u001b[38;5;28;01mfrom\u001b[39;00m \u001b[38;5;21;01mnltk\u001b[39;00m\u001b[38;5;21;01m.\u001b[39;00m\u001b[38;5;21;01mtokenize\u001b[39;00m \u001b[38;5;28;01mimport\u001b[39;00m word_tokenize, sent_tokenize\n\u001b[0;32m      3\u001b[0m \u001b[38;5;28;01mimport\u001b[39;00m \u001b[38;5;21;01mspacy\u001b[39;00m\n",
            "\u001b[1;31mModuleNotFoundError\u001b[0m: No module named 'nltk'"
          ]
        }
      ],
      "source": [
        "import nltk\n",
        "from nltk.tokenize import word_tokenize, sent_tokenize\n",
        "import spacy"
      ]
    },
    {
      "cell_type": "markdown",
      "id": "ST8WX0snosUD",
      "metadata": {
        "id": "ST8WX0snosUD"
      },
      "source": [
        "### Instalação de recursos linguísticos"
      ]
    },
    {
      "cell_type": "code",
      "execution_count": null,
      "id": "NIhSrmZ3gIjh",
      "metadata": {
        "colab": {
          "base_uri": "https://localhost:8080/"
        },
        "id": "NIhSrmZ3gIjh",
        "outputId": "272a5a2f-b263-4d9f-af73-bdf4024587de"
      },
      "outputs": [
        {
          "name": "stderr",
          "output_type": "stream",
          "text": [
            "[nltk_data] Downloading package punkt to /root/nltk_data...\n",
            "[nltk_data]   Unzipping tokenizers/punkt.zip.\n",
            "[nltk_data] Downloading package averaged_perceptron_tagger to\n",
            "[nltk_data]     /root/nltk_data...\n",
            "[nltk_data]   Unzipping taggers/averaged_perceptron_tagger.zip.\n"
          ]
        },
        {
          "data": {
            "text/plain": [
              "True"
            ]
          },
          "execution_count": 2,
          "metadata": {},
          "output_type": "execute_result"
        }
      ],
      "source": [
        "nltk.download('punkt')\n",
        "nltk.download('averaged_perceptron_tagger')"
      ]
    },
    {
      "cell_type": "markdown",
      "id": "ClIMbYqpo44d",
      "metadata": {
        "id": "ClIMbYqpo44d"
      },
      "source": [
        "### Carreguando modelos linguísticos do SpaCy"
      ]
    },
    {
      "cell_type": "code",
      "execution_count": null,
      "id": "oVxGwtz6gIg3",
      "metadata": {
        "colab": {
          "base_uri": "https://localhost:8080/"
        },
        "id": "oVxGwtz6gIg3",
        "outputId": "862c299a-971b-4592-fb59-68060f8238c3"
      },
      "outputs": [
        {
          "name": "stdout",
          "output_type": "stream",
          "text": [
            "Collecting pt-core-news-sm==3.7.0\n",
            "  Downloading https://github.com/explosion/spacy-models/releases/download/pt_core_news_sm-3.7.0/pt_core_news_sm-3.7.0-py3-none-any.whl (13.0 MB)\n",
            "\u001b[2K     \u001b[90m━━━━━━━━━━━━━━━━━━━━━━━━━━━━━━━━━━━━━━━━\u001b[0m \u001b[32m13.0/13.0 MB\u001b[0m \u001b[31m62.5 MB/s\u001b[0m eta \u001b[36m0:00:00\u001b[0m\n",
            "\u001b[?25hRequirement already satisfied: spacy<3.8.0,>=3.7.0 in /usr/local/lib/python3.10/dist-packages (from pt-core-news-sm==3.7.0) (3.7.4)\n",
            "Requirement already satisfied: spacy-legacy<3.1.0,>=3.0.11 in /usr/local/lib/python3.10/dist-packages (from spacy<3.8.0,>=3.7.0->pt-core-news-sm==3.7.0) (3.0.12)\n",
            "Requirement already satisfied: spacy-loggers<2.0.0,>=1.0.0 in /usr/local/lib/python3.10/dist-packages (from spacy<3.8.0,>=3.7.0->pt-core-news-sm==3.7.0) (1.0.5)\n",
            "Requirement already satisfied: murmurhash<1.1.0,>=0.28.0 in /usr/local/lib/python3.10/dist-packages (from spacy<3.8.0,>=3.7.0->pt-core-news-sm==3.7.0) (1.0.10)\n",
            "Requirement already satisfied: cymem<2.1.0,>=2.0.2 in /usr/local/lib/python3.10/dist-packages (from spacy<3.8.0,>=3.7.0->pt-core-news-sm==3.7.0) (2.0.8)\n",
            "Requirement already satisfied: preshed<3.1.0,>=3.0.2 in /usr/local/lib/python3.10/dist-packages (from spacy<3.8.0,>=3.7.0->pt-core-news-sm==3.7.0) (3.0.9)\n",
            "Requirement already satisfied: thinc<8.3.0,>=8.2.2 in /usr/local/lib/python3.10/dist-packages (from spacy<3.8.0,>=3.7.0->pt-core-news-sm==3.7.0) (8.2.3)\n",
            "Requirement already satisfied: wasabi<1.2.0,>=0.9.1 in /usr/local/lib/python3.10/dist-packages (from spacy<3.8.0,>=3.7.0->pt-core-news-sm==3.7.0) (1.1.2)\n",
            "Requirement already satisfied: srsly<3.0.0,>=2.4.3 in /usr/local/lib/python3.10/dist-packages (from spacy<3.8.0,>=3.7.0->pt-core-news-sm==3.7.0) (2.4.8)\n",
            "Requirement already satisfied: catalogue<2.1.0,>=2.0.6 in /usr/local/lib/python3.10/dist-packages (from spacy<3.8.0,>=3.7.0->pt-core-news-sm==3.7.0) (2.0.10)\n",
            "Requirement already satisfied: weasel<0.4.0,>=0.1.0 in /usr/local/lib/python3.10/dist-packages (from spacy<3.8.0,>=3.7.0->pt-core-news-sm==3.7.0) (0.3.4)\n",
            "Requirement already satisfied: typer<0.10.0,>=0.3.0 in /usr/local/lib/python3.10/dist-packages (from spacy<3.8.0,>=3.7.0->pt-core-news-sm==3.7.0) (0.9.0)\n",
            "Requirement already satisfied: smart-open<7.0.0,>=5.2.1 in /usr/local/lib/python3.10/dist-packages (from spacy<3.8.0,>=3.7.0->pt-core-news-sm==3.7.0) (6.4.0)\n",
            "Requirement already satisfied: tqdm<5.0.0,>=4.38.0 in /usr/local/lib/python3.10/dist-packages (from spacy<3.8.0,>=3.7.0->pt-core-news-sm==3.7.0) (4.66.2)\n",
            "Requirement already satisfied: requests<3.0.0,>=2.13.0 in /usr/local/lib/python3.10/dist-packages (from spacy<3.8.0,>=3.7.0->pt-core-news-sm==3.7.0) (2.31.0)\n",
            "Requirement already satisfied: pydantic!=1.8,!=1.8.1,<3.0.0,>=1.7.4 in /usr/local/lib/python3.10/dist-packages (from spacy<3.8.0,>=3.7.0->pt-core-news-sm==3.7.0) (2.6.1)\n",
            "Requirement already satisfied: jinja2 in /usr/local/lib/python3.10/dist-packages (from spacy<3.8.0,>=3.7.0->pt-core-news-sm==3.7.0) (3.1.3)\n",
            "Requirement already satisfied: setuptools in /usr/local/lib/python3.10/dist-packages (from spacy<3.8.0,>=3.7.0->pt-core-news-sm==3.7.0) (67.7.2)\n",
            "Requirement already satisfied: packaging>=20.0 in /usr/local/lib/python3.10/dist-packages (from spacy<3.8.0,>=3.7.0->pt-core-news-sm==3.7.0) (23.2)\n",
            "Requirement already satisfied: langcodes<4.0.0,>=3.2.0 in /usr/local/lib/python3.10/dist-packages (from spacy<3.8.0,>=3.7.0->pt-core-news-sm==3.7.0) (3.3.0)\n",
            "Requirement already satisfied: numpy>=1.19.0 in /usr/local/lib/python3.10/dist-packages (from spacy<3.8.0,>=3.7.0->pt-core-news-sm==3.7.0) (1.25.2)\n",
            "Requirement already satisfied: annotated-types>=0.4.0 in /usr/local/lib/python3.10/dist-packages (from pydantic!=1.8,!=1.8.1,<3.0.0,>=1.7.4->spacy<3.8.0,>=3.7.0->pt-core-news-sm==3.7.0) (0.6.0)\n",
            "Requirement already satisfied: pydantic-core==2.16.2 in /usr/local/lib/python3.10/dist-packages (from pydantic!=1.8,!=1.8.1,<3.0.0,>=1.7.4->spacy<3.8.0,>=3.7.0->pt-core-news-sm==3.7.0) (2.16.2)\n",
            "Requirement already satisfied: typing-extensions>=4.6.1 in /usr/local/lib/python3.10/dist-packages (from pydantic!=1.8,!=1.8.1,<3.0.0,>=1.7.4->spacy<3.8.0,>=3.7.0->pt-core-news-sm==3.7.0) (4.9.0)\n",
            "Requirement already satisfied: charset-normalizer<4,>=2 in /usr/local/lib/python3.10/dist-packages (from requests<3.0.0,>=2.13.0->spacy<3.8.0,>=3.7.0->pt-core-news-sm==3.7.0) (3.3.2)\n",
            "Requirement already satisfied: idna<4,>=2.5 in /usr/local/lib/python3.10/dist-packages (from requests<3.0.0,>=2.13.0->spacy<3.8.0,>=3.7.0->pt-core-news-sm==3.7.0) (3.6)\n",
            "Requirement already satisfied: urllib3<3,>=1.21.1 in /usr/local/lib/python3.10/dist-packages (from requests<3.0.0,>=2.13.0->spacy<3.8.0,>=3.7.0->pt-core-news-sm==3.7.0) (2.0.7)\n",
            "Requirement already satisfied: certifi>=2017.4.17 in /usr/local/lib/python3.10/dist-packages (from requests<3.0.0,>=2.13.0->spacy<3.8.0,>=3.7.0->pt-core-news-sm==3.7.0) (2024.2.2)\n",
            "Requirement already satisfied: blis<0.8.0,>=0.7.8 in /usr/local/lib/python3.10/dist-packages (from thinc<8.3.0,>=8.2.2->spacy<3.8.0,>=3.7.0->pt-core-news-sm==3.7.0) (0.7.11)\n",
            "Requirement already satisfied: confection<1.0.0,>=0.0.1 in /usr/local/lib/python3.10/dist-packages (from thinc<8.3.0,>=8.2.2->spacy<3.8.0,>=3.7.0->pt-core-news-sm==3.7.0) (0.1.4)\n",
            "Requirement already satisfied: click<9.0.0,>=7.1.1 in /usr/local/lib/python3.10/dist-packages (from typer<0.10.0,>=0.3.0->spacy<3.8.0,>=3.7.0->pt-core-news-sm==3.7.0) (8.1.7)\n",
            "Requirement already satisfied: cloudpathlib<0.17.0,>=0.7.0 in /usr/local/lib/python3.10/dist-packages (from weasel<0.4.0,>=0.1.0->spacy<3.8.0,>=3.7.0->pt-core-news-sm==3.7.0) (0.16.0)\n",
            "Requirement already satisfied: MarkupSafe>=2.0 in /usr/local/lib/python3.10/dist-packages (from jinja2->spacy<3.8.0,>=3.7.0->pt-core-news-sm==3.7.0) (2.1.5)\n",
            "Installing collected packages: pt-core-news-sm\n",
            "Successfully installed pt-core-news-sm-3.7.0\n",
            "\u001b[38;5;2m✔ Download and installation successful\u001b[0m\n",
            "You can now load the package via spacy.load('pt_core_news_sm')\n",
            "\u001b[38;5;3m⚠ Restart to reload dependencies\u001b[0m\n",
            "If you are in a Jupyter or Colab notebook, you may need to restart Python in\n",
            "order to load all the package's dependencies. You can do this by selecting the\n",
            "'Restart kernel' or 'Restart runtime' option.\n"
          ]
        }
      ],
      "source": [
        "!python -m spacy download pt_core_news_sm"
      ]
    },
    {
      "cell_type": "markdown",
      "id": "rg-XDyHVpGoM",
      "metadata": {
        "id": "rg-XDyHVpGoM"
      },
      "source": [
        "### Geração de dados"
      ]
    },
    {
      "cell_type": "code",
      "execution_count": null,
      "id": "CffQ3pIcgIeU",
      "metadata": {
        "id": "CffQ3pIcgIeU"
      },
      "outputs": [],
      "source": [
        "# Criando uma variável chamada 'texto'\n",
        "texto = \"No livro Harry Potter, de J.K. Rowling, a autora retrata as dificuldades enfrentadas por alguns alunos para ingressar em Hogwarts, uma escola de bruxos, em virtude do seu poder aquisitivo. De maneira análoga a realidade apresentada na obra, no cenário contemporâneo os estudantes deparam-se com os altos custos das universidades, e os vestibulares, como o Enem, são alternativas para as pessoas de baixa renda retomarem sua caminhada, todavia, estão sendo inviabilizados por emendas constitucionais, a exemplo da PEC 206. Logo, é crucial uma análise em prol do reconhecimento dos direitos dos indivíduos e atenuar o que representa um grande retrocesso na educação. Em primeiro lugar, faz-se importante destacar que a incúria governamental corrobora com o problema. Acerca disso, a Constituição federal de 1988 assegura o pleno direito à educação, sem distinção de qualquer natureza. Entretanto, os atuais projetos legislativos representam um entrave para a concretização do que é afirmado na Carta Magna, haja vista que substancial parcela da população brasileira carece de recursos monetários suficientes para arcar com os custos das faculdades, de modo a reduzir os índices de capacitação profissional. Dessa forma, é incoerente que o Estado aprove essa emenda a qual protagonizará como um dos propulsores da desigualdade social. Em segunda instância, é válido ressaltar que a desinformação corrobora com o revés. Apesar dos ilustres alcances midiáticos, sobretudo no âmbito digital, os conteúdos propagados são irrelevantes para a formação do cidadão, o que dificulta a atuação dos indivíduos na vida pública, bem como a luta por seus direitos. Para Aristóteles, célebre filósofo grego, a política é um dever individual e a felicidade é um resultado coletivo. Em suma, enquanto a importância de manter-se informado não for reconhecida, os desafios atrelados à garantia dos direitos fundamentais, tais como a educação e uma vida digna, continuarão em vigor. Portanto, diante dos fatos abordados, é necessário tomar medidas para evitar um regresso educacional. Para tanto, o governo federal deve intervir o quanto antes na anulação da PEC 206 em território nacional mediante a prerrogativa assegurada ao judiciário de decretar a inconstitucionalidade da lei, com o fito de preservar o acesso à rede de ensino gratuita nas universidades. Além disso, é preciso ampliar os canais informacionais governamentais, para que os indivíduos fiquem cientes das decisões políticas. Espera-se, com tais medidas, que a sociedade hodierna distancie-se da realidade apresentada em Harry Potter.\"\n"
      ]
    },
    {
      "cell_type": "markdown",
      "id": "Ulla0eOjpN3g",
      "metadata": {
        "id": "Ulla0eOjpN3g"
      },
      "source": [
        "# Segmentação de sentenças"
      ]
    },
    {
      "cell_type": "code",
      "execution_count": null,
      "id": "mHT01FnboR6g",
      "metadata": {
        "colab": {
          "base_uri": "https://localhost:8080/"
        },
        "id": "mHT01FnboR6g",
        "outputId": "01498aa2-905b-4472-9538-f01eb4f8421d"
      },
      "outputs": [
        {
          "name": "stdout",
          "output_type": "stream",
          "text": [
            "['No livro Harry Potter, de J.K. Rowling, a autora retrata as dificuldades enfrentadas por alguns alunos para ingressar em Hogwarts, uma escola de bruxos, em virtude do seu poder aquisitivo.', 'De maneira análoga a realidade apresentada na obra, no cenário contemporâneo os estudantes deparam-se com os altos custos das universidades, e os vestibulares, como o Enem, são alternativas para as pessoas de baixa renda retomarem sua caminhada, todavia, estão sendo inviabilizados por emendas constitucionais, a exemplo da PEC 206.', 'Logo, é crucial uma análise em prol do reconhecimento dos direitos dos indivíduos e atenuar o que representa um grande retrocesso na educação.', 'Em primeiro lugar, faz-se importante destacar que a incúria governamental corrobora com o problema.', 'Acerca disso, a Constituição federal de 1988 assegura o pleno direito à educação, sem distinção de qualquer natureza.', 'Entretanto, os atuais projetos legislativos representam um entrave para a concretização do que é afirmado na Carta Magna, haja vista que substancial parcela da população brasileira carece de recursos monetários suficientes para arcar com os custos das faculdades, de modo a reduzir os índices de capacitação profissional.', 'Dessa forma, é incoerente que o Estado aprove essa emenda a qual protagonizará como um dos propulsores da desigualdade social.', 'Em segunda instância, é válido ressaltar que a desinformação corrobora com o revés.', 'Apesar dos ilustres alcances midiáticos, sobretudo no âmbito digital, os conteúdos propagados são irrelevantes para a formação do cidadão, o que dificulta a atuação dos indivíduos na vida pública, bem como a luta por seus direitos.', 'Para Aristóteles, célebre filósofo grego, a política é um dever individual e a felicidade é um resultado coletivo.', 'Em suma, enquanto a importância de manter-se informado não for reconhecida, os desafios atrelados à garantia dos direitos fundamentais, tais como a educação e uma vida digna, continuarão em vigor.', 'Portanto, diante dos fatos abordados, é necessário tomar medidas para evitar um regresso educacional.', 'Para tanto, o governo federal deve intervir o quanto antes na anulação da PEC 206 em território nacional mediante a prerrogativa assegurada ao judiciário de decretar a inconstitucionalidade da lei, com o fito de preservar o acesso à rede de ensino gratuita nas universidades.', 'Além disso, é preciso ampliar os canais informacionais governamentais, para que os indivíduos fiquem cientes das decisões políticas.', 'Espera-se, com tais medidas, que a sociedade hodierna distancie-se da realidade apresentada em Harry Potter.']\n",
            "['No livro Harry Potter, de J.K. Rowling, a autora retrata as dificuldades enfrentadas por alguns alunos para ingressar em Hogwarts, uma escola de bruxos, em virtude do seu poder aquisitivo.', 'De maneira análoga a realidade apresentada na obra, no cenário contemporâneo os estudantes deparam-se com os altos custos das universidades, e os vestibulares, como o Enem, são alternativas para as pessoas de baixa renda retomarem sua caminhada, todavia, estão sendo inviabilizados por emendas constitucionais, a exemplo da PEC 206.', 'Logo, é crucial uma análise em prol do reconhecimento dos direitos dos indivíduos e atenuar o que representa um grande retrocesso na educação.', 'Em primeiro lugar, faz-se importante destacar que a incúria governamental corrobora com o problema.', 'Acerca disso, a Constituição federal de 1988 assegura o pleno direito à educação, sem distinção de qualquer natureza.', 'Entretanto, os atuais projetos legislativos representam um entrave para a concretização do que é afirmado na Carta Magna, haja vista que substancial parcela da população brasileira carece de recursos monetários suficientes para arcar com os custos das faculdades, de modo a reduzir os índices de capacitação profissional.', 'Dessa forma, é incoerente que o Estado aprove essa emenda a qual protagonizará como um dos propulsores da desigualdade social.', 'Em segunda instância, é válido ressaltar que a desinformação corrobora com o revés.', 'Apesar dos ilustres alcances midiáticos, sobretudo no âmbito digital, os conteúdos propagados são irrelevantes para a formação do cidadão, o que dificulta a atuação dos indivíduos na vida pública, bem como a luta por seus direitos.', 'Para Aristóteles, célebre filósofo grego, a política é um dever individual e a felicidade é um resultado coletivo.', 'Em suma, enquanto a importância de manter-se informado não for reconhecida, os desafios atrelados à garantia dos direitos fundamentais, tais como a educação e uma vida digna, continuarão em vigor.', 'Portanto, diante dos fatos abordados, é necessário tomar medidas para evitar um regresso educacional.', 'Para tanto, o governo federal deve intervir o quanto antes na anulação da PEC 206 em território nacional mediante a prerrogativa assegurada ao judiciário de decretar a inconstitucionalidade da lei, com o fito de preservar o acesso à rede de ensino gratuita nas universidades.', 'Além disso, é preciso ampliar os canais informacionais governamentais, para que os indivíduos fiquem cientes das decisões políticas.', 'Espera-se, com tais medidas, que a sociedade hodierna distancie-se da realidade apresentada em Harry Potter.']\n"
          ]
        }
      ],
      "source": [
        "# Usando NLTK\n",
        "sentencas = sent_tokenize(texto)\n",
        "print(sentencas)\n",
        "\n",
        "# Usando SpaCy\n",
        "nlp = spacy.load(\"pt_core_news_sm\")\n",
        "doc = nlp(texto)\n",
        "sentencas_spacy = [sent.text for sent in doc.sents]\n",
        "print(sentencas_spacy)"
      ]
    },
    {
      "cell_type": "markdown",
      "id": "kFZAulGvpS42",
      "metadata": {
        "id": "kFZAulGvpS42"
      },
      "source": [
        "# Tokenização de palavras"
      ]
    },
    {
      "cell_type": "code",
      "execution_count": null,
      "id": "ZiSgpc-ToR3j",
      "metadata": {
        "colab": {
          "base_uri": "https://localhost:8080/"
        },
        "id": "ZiSgpc-ToR3j",
        "outputId": "0d9b42f6-8070-49e0-8ec1-211cf905330e"
      },
      "outputs": [
        {
          "name": "stdout",
          "output_type": "stream",
          "text": [
            "['No', 'livro', 'Harry', 'Potter', ',', 'de', 'J.K.', 'Rowling', ',', 'a', 'autora', 'retrata', 'as', 'dificuldades', 'enfrentadas', 'por', 'alguns', 'alunos', 'para', 'ingressar', 'em', 'Hogwarts', ',', 'uma', 'escola', 'de', 'bruxos', ',', 'em', 'virtude', 'do', 'seu', 'poder', 'aquisitivo', '.', 'De', 'maneira', 'análoga', 'a', 'realidade', 'apresentada', 'na', 'obra', ',', 'no', 'cenário', 'contemporâneo', 'os', 'estudantes', 'deparam-se', 'com', 'os', 'altos', 'custos', 'das', 'universidades', ',', 'e', 'os', 'vestibulares', ',', 'como', 'o', 'Enem', ',', 'são', 'alternativas', 'para', 'as', 'pessoas', 'de', 'baixa', 'renda', 'retomarem', 'sua', 'caminhada', ',', 'todavia', ',', 'estão', 'sendo', 'inviabilizados', 'por', 'emendas', 'constitucionais', ',', 'a', 'exemplo', 'da', 'PEC', '206', '.', 'Logo', ',', 'é', 'crucial', 'uma', 'análise', 'em', 'prol', 'do', 'reconhecimento', 'dos', 'direitos', 'dos', 'indivíduos', 'e', 'atenuar', 'o', 'que', 'representa', 'um', 'grande', 'retrocesso', 'na', 'educação', '.', 'Em', 'primeiro', 'lugar', ',', 'faz-se', 'importante', 'destacar', 'que', 'a', 'incúria', 'governamental', 'corrobora', 'com', 'o', 'problema', '.', 'Acerca', 'disso', ',', 'a', 'Constituição', 'federal', 'de', '1988', 'assegura', 'o', 'pleno', 'direito', 'à', 'educação', ',', 'sem', 'distinção', 'de', 'qualquer', 'natureza', '.', 'Entretanto', ',', 'os', 'atuais', 'projetos', 'legislativos', 'representam', 'um', 'entrave', 'para', 'a', 'concretização', 'do', 'que', 'é', 'afirmado', 'na', 'Carta', 'Magna', ',', 'haja', 'vista', 'que', 'substancial', 'parcela', 'da', 'população', 'brasileira', 'carece', 'de', 'recursos', 'monetários', 'suficientes', 'para', 'arcar', 'com', 'os', 'custos', 'das', 'faculdades', ',', 'de', 'modo', 'a', 'reduzir', 'os', 'índices', 'de', 'capacitação', 'profissional', '.', 'Dessa', 'forma', ',', 'é', 'incoerente', 'que', 'o', 'Estado', 'aprove', 'essa', 'emenda', 'a', 'qual', 'protagonizará', 'como', 'um', 'dos', 'propulsores', 'da', 'desigualdade', 'social', '.', 'Em', 'segunda', 'instância', ',', 'é', 'válido', 'ressaltar', 'que', 'a', 'desinformação', 'corrobora', 'com', 'o', 'revés', '.', 'Apesar', 'dos', 'ilustres', 'alcances', 'midiáticos', ',', 'sobretudo', 'no', 'âmbito', 'digital', ',', 'os', 'conteúdos', 'propagados', 'são', 'irrelevantes', 'para', 'a', 'formação', 'do', 'cidadão', ',', 'o', 'que', 'dificulta', 'a', 'atuação', 'dos', 'indivíduos', 'na', 'vida', 'pública', ',', 'bem', 'como', 'a', 'luta', 'por', 'seus', 'direitos', '.', 'Para', 'Aristóteles', ',', 'célebre', 'filósofo', 'grego', ',', 'a', 'política', 'é', 'um', 'dever', 'individual', 'e', 'a', 'felicidade', 'é', 'um', 'resultado', 'coletivo', '.', 'Em', 'suma', ',', 'enquanto', 'a', 'importância', 'de', 'manter-se', 'informado', 'não', 'for', 'reconhecida', ',', 'os', 'desafios', 'atrelados', 'à', 'garantia', 'dos', 'direitos', 'fundamentais', ',', 'tais', 'como', 'a', 'educação', 'e', 'uma', 'vida', 'digna', ',', 'continuarão', 'em', 'vigor', '.', 'Portanto', ',', 'diante', 'dos', 'fatos', 'abordados', ',', 'é', 'necessário', 'tomar', 'medidas', 'para', 'evitar', 'um', 'regresso', 'educacional', '.', 'Para', 'tanto', ',', 'o', 'governo', 'federal', 'deve', 'intervir', 'o', 'quanto', 'antes', 'na', 'anulação', 'da', 'PEC', '206', 'em', 'território', 'nacional', 'mediante', 'a', 'prerrogativa', 'assegurada', 'ao', 'judiciário', 'de', 'decretar', 'a', 'inconstitucionalidade', 'da', 'lei', ',', 'com', 'o', 'fito', 'de', 'preservar', 'o', 'acesso', 'à', 'rede', 'de', 'ensino', 'gratuita', 'nas', 'universidades', '.', 'Além', 'disso', ',', 'é', 'preciso', 'ampliar', 'os', 'canais', 'informacionais', 'governamentais', ',', 'para', 'que', 'os', 'indivíduos', 'fiquem', 'cientes', 'das', 'decisões', 'políticas', '.', 'Espera-se', ',', 'com', 'tais', 'medidas', ',', 'que', 'a', 'sociedade', 'hodierna', 'distancie-se', 'da', 'realidade', 'apresentada', 'em', 'Harry', 'Potter', '.']\n",
            "['No', 'livro', 'Harry', 'Potter', ',', 'de', 'J.K.', 'Rowling', ',', 'a', 'autora', 'retrata', 'as', 'dificuldades', 'enfrentadas', 'por', 'alguns', 'alunos', 'para', 'ingressar', 'em', 'Hogwarts', ',', 'uma', 'escola', 'de', 'bruxos', ',', 'em', 'virtude', 'do', 'seu', 'poder', 'aquisitivo', '.', 'De', 'maneira', 'análoga', 'a', 'realidade', 'apresentada', 'na', 'obra', ',', 'no', 'cenário', 'contemporâneo', 'os', 'estudantes', 'deparam-se', 'com', 'os', 'altos', 'custos', 'das', 'universidades', ',', 'e', 'os', 'vestibulares', ',', 'como', 'o', 'Enem', ',', 'são', 'alternativas', 'para', 'as', 'pessoas', 'de', 'baixa', 'renda', 'retomarem', 'sua', 'caminhada', ',', 'todavia', ',', 'estão', 'sendo', 'inviabilizados', 'por', 'emendas', 'constitucionais', ',', 'a', 'exemplo', 'da', 'PEC', '206', '.', 'Logo', ',', 'é', 'crucial', 'uma', 'análise', 'em', 'prol', 'do', 'reconhecimento', 'dos', 'direitos', 'dos', 'indivíduos', 'e', 'atenuar', 'o', 'que', 'representa', 'um', 'grande', 'retrocesso', 'na', 'educação', '.', 'Em', 'primeiro', 'lugar', ',', 'faz-se', 'importante', 'destacar', 'que', 'a', 'incúria', 'governamental', 'corrobora', 'com', 'o', 'problema', '.', 'Acerca', 'disso', ',', 'a', 'Constituição', 'federal', 'de', '1988', 'assegura', 'o', 'pleno', 'direito', 'à', 'educação', ',', 'sem', 'distinção', 'de', 'qualquer', 'natureza', '.', 'Entretanto', ',', 'os', 'atuais', 'projetos', 'legislativos', 'representam', 'um', 'entrave', 'para', 'a', 'concretização', 'do', 'que', 'é', 'afirmado', 'na', 'Carta', 'Magna', ',', 'haja', 'vista', 'que', 'substancial', 'parcela', 'da', 'população', 'brasileira', 'carece', 'de', 'recursos', 'monetários', 'suficientes', 'para', 'arcar', 'com', 'os', 'custos', 'das', 'faculdades', ',', 'de', 'modo', 'a', 'reduzir', 'os', 'índices', 'de', 'capacitação', 'profissional', '.', 'Dessa', 'forma', ',', 'é', 'incoerente', 'que', 'o', 'Estado', 'aprove', 'essa', 'emenda', 'a', 'qual', 'protagonizará', 'como', 'um', 'dos', 'propulsores', 'da', 'desigualdade', 'social', '.', 'Em', 'segunda', 'instância', ',', 'é', 'válido', 'ressaltar', 'que', 'a', 'desinformação', 'corrobora', 'com', 'o', 'revés', '.', 'Apesar', 'dos', 'ilustres', 'alcances', 'midiáticos', ',', 'sobretudo', 'no', 'âmbito', 'digital', ',', 'os', 'conteúdos', 'propagados', 'são', 'irrelevantes', 'para', 'a', 'formação', 'do', 'cidadão', ',', 'o', 'que', 'dificulta', 'a', 'atuação', 'dos', 'indivíduos', 'na', 'vida', 'pública', ',', 'bem', 'como', 'a', 'luta', 'por', 'seus', 'direitos', '.', 'Para', 'Aristóteles', ',', 'célebre', 'filósofo', 'grego', ',', 'a', 'política', 'é', 'um', 'dever', 'individual', 'e', 'a', 'felicidade', 'é', 'um', 'resultado', 'coletivo', '.', 'Em', 'suma', ',', 'enquanto', 'a', 'importância', 'de', 'manter-se', 'informado', 'não', 'for', 'reconhecida', ',', 'os', 'desafios', 'atrelados', 'à', 'garantia', 'dos', 'direitos', 'fundamentais', ',', 'tais', 'como', 'a', 'educação', 'e', 'uma', 'vida', 'digna', ',', 'continuarão', 'em', 'vigor', '.', 'Portanto', ',', 'diante', 'dos', 'fatos', 'abordados', ',', 'é', 'necessário', 'tomar', 'medidas', 'para', 'evitar', 'um', 'regresso', 'educacional', '.', 'Para', 'tanto', ',', 'o', 'governo', 'federal', 'deve', 'intervir', 'o', 'quanto', 'antes', 'na', 'anulação', 'da', 'PEC', '206', 'em', 'território', 'nacional', 'mediante', 'a', 'prerrogativa', 'assegurada', 'ao', 'judiciário', 'de', 'decretar', 'a', 'inconstitucionalidade', 'da', 'lei', ',', 'com', 'o', 'fito', 'de', 'preservar', 'o', 'acesso', 'à', 'rede', 'de', 'ensino', 'gratuita', 'nas', 'universidades', '.', 'Além', 'disso', ',', 'é', 'preciso', 'ampliar', 'os', 'canais', 'informacionais', 'governamentais', ',', 'para', 'que', 'os', 'indivíduos', 'fiquem', 'cientes', 'das', 'decisões', 'políticas', '.', 'Espera-se', ',', 'com', 'tais', 'medidas', ',', 'que', 'a', 'sociedade', 'hodierna', 'distancie-se', 'da', 'realidade', 'apresentada', 'em', 'Harry', 'Potter', '.']\n"
          ]
        }
      ],
      "source": [
        "# Usando NLTK\n",
        "tokens = word_tokenize(texto)\n",
        "print(tokens)\n",
        "\n",
        "# Usando SpaCy\n",
        "tokens_spacy = [token.text for token in doc]\n",
        "print(tokens_spacy)"
      ]
    },
    {
      "cell_type": "markdown",
      "id": "bb819c2f",
      "metadata": {},
      "source": [
        "# Lematização"
      ]
    },
    {
      "cell_type": "code",
      "execution_count": null,
      "id": "cb5667d0",
      "metadata": {},
      "outputs": [],
      "source": [
        "#Cada token no doc ja tem um _lemma que podemos acessar usando:\n",
        "lemmas=[token.lemma_ for token in doc]\n",
        "print(\"\\nLemmas:\", lemmas)"
      ]
    },
    {
      "cell_type": "markdown",
      "id": "b9788308",
      "metadata": {},
      "source": [
        "# Reconhecimento de Entidades"
      ]
    },
    {
      "cell_type": "code",
      "execution_count": null,
      "id": "dd7d4403",
      "metadata": {},
      "outputs": [],
      "source": [
        "entidades = [(ent.text, ent.label_) for ent in doc.ents]\n",
        "print(\"\\nEntidades Reconhecidas:\", entidades)"
      ]
    }
  ],
  "metadata": {
    "celltoolbar": "Slideshow",
    "colab": {
      "provenance": []
    },
    "kernelspec": {
      "display_name": "Python 3 (ipykernel)",
      "language": "python",
      "name": "python3"
    },
    "language_info": {
      "codemirror_mode": {
        "name": "ipython",
        "version": 3
      },
      "file_extension": ".py",
      "mimetype": "text/x-python",
      "name": "python",
      "nbconvert_exporter": "python",
      "pygments_lexer": "ipython3",
      "version": "3.10.11"
    }
  },
  "nbformat": 4,
  "nbformat_minor": 5
}
